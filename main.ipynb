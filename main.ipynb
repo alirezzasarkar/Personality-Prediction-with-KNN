{
 "cells": [
  {
   "cell_type": "markdown",
   "metadata": {},
   "source": [
    "Block 1: Load the Data & Basic Preprocessing"
   ]
  },
  {
   "cell_type": "code",
   "execution_count": 8,
   "metadata": {},
   "outputs": [
    {
     "name": "stdout",
     "output_type": "stream",
     "text": [
      "  username  posts_per_day  avg_post_length  num_hashtags  emoji_usage_percent  \\\n",
      "0   user_0              9              285             2                43.64   \n",
      "1   user_1              7              147             8                39.85   \n",
      "2   user_2              2              231             5                25.75   \n",
      "3   user_3              6              282             0                 6.54   \n",
      "4   user_4              4               99             2                10.75   \n",
      "\n",
      "   avg_post_hour top_word_category personality  \n",
      "0              8       informative   Introvert  \n",
      "1             19       informative   Introvert  \n",
      "2             21           neutral   Extrovert  \n",
      "3              5           neutral   Introvert  \n",
      "4             10           neutral   Introvert  \n",
      "  username  posts_per_day  avg_post_length  num_hashtags  emoji_usage_percent  \\\n",
      "0   user_0              9              285             2                43.64   \n",
      "1   user_1              7              147             8                39.85   \n",
      "2   user_2              2              231             5                25.75   \n",
      "3   user_3              6              282             0                 6.54   \n",
      "4   user_4              4               99             2                10.75   \n",
      "\n",
      "   avg_post_hour top_word_category personality  top_word_category_encoded  \\\n",
      "0              8       informative   Introvert                          1   \n",
      "1             19       informative   Introvert                          1   \n",
      "2             21           neutral   Extrovert                          2   \n",
      "3              5           neutral   Introvert                          2   \n",
      "4             10           neutral   Introvert                          2   \n",
      "\n",
      "   personality_encoded  \n",
      "0                    1  \n",
      "1                    1  \n",
      "2                    0  \n",
      "3                    1  \n",
      "4                    1  \n"
     ]
    }
   ],
   "source": [
    "import pandas as pd\n",
    "from sklearn.model_selection import train_test_split, GridSearchCV\n",
    "from sklearn.preprocessing import StandardScaler, LabelEncoder\n",
    "from sklearn.pipeline import Pipeline\n",
    "from sklearn.metrics import classification_report\n",
    "from sklearn.neighbors import KNeighborsClassifier\n",
    "\n",
    "# Load dataset\n",
    "df = pd.read_csv(\"fake_social_personality_data_2000.csv\")\n",
    "print(df.head())\n",
    "\n",
    "# Encode categorical features\n",
    "df['top_word_category_encoded'] = LabelEncoder().fit_transform(df['top_word_category'])\n",
    "df['personality_encoded'] = LabelEncoder().fit_transform(df['personality'])\n",
    "print(df.head())\n",
    "\n",
    "# Define features and target\n",
    "X = df[['posts_per_day', 'avg_post_length', 'num_hashtags', 'emoji_usage_percent',\n",
    "        'avg_post_hour', 'top_word_category_encoded']]\n",
    "y = df['personality_encoded']\n",
    "\n",
    "# Train-test split\n",
    "X_train, X_test, y_train, y_test = train_test_split(\n",
    "    X, y, test_size=0.2, random_state=42, stratify=y\n",
    ")"
   ]
  },
  {
   "cell_type": "markdown",
   "metadata": {},
   "source": [
    "Block 2: Build Pipeline and Run GridSearch"
   ]
  },
  {
   "cell_type": "code",
   "execution_count": 9,
   "metadata": {},
   "outputs": [
    {
     "name": "stdout",
     "output_type": "stream",
     "text": [
      "Best Parameters: {'knn__metric': 'euclidean', 'knn__n_neighbors': 4, 'knn__weights': 'uniform'}\n"
     ]
    }
   ],
   "source": [
    "# Define a pipeline with StandardScaler and KNN\n",
    "pipeline = Pipeline([\n",
    "    ('scaler', StandardScaler()),\n",
    "    ('knn', KNeighborsClassifier())\n",
    "])\n",
    "\n",
    "# Parameter grid for GridSearchCV\n",
    "param_grid = {\n",
    "    'knn__n_neighbors': list(range(3, 21)),\n",
    "    'knn__weights': ['uniform', 'distance'],\n",
    "    'knn__metric': ['euclidean', 'manhattan']\n",
    "}\n",
    "\n",
    "# Grid search with cross-validation\n",
    "grid_search = GridSearchCV(pipeline, param_grid, cv=5, scoring='accuracy', n_jobs=-1)\n",
    "grid_search.fit(X_train, y_train)\n",
    "\n",
    "# Show the best parameters\n",
    "print(\"Best Parameters:\", grid_search.best_params_)"
   ]
  },
  {
   "cell_type": "markdown",
   "metadata": {},
   "source": [
    " Block 3: Evaluate the Final Model"
   ]
  },
  {
   "cell_type": "code",
   "execution_count": 10,
   "metadata": {},
   "outputs": [
    {
     "name": "stdout",
     "output_type": "stream",
     "text": [
      "              precision    recall  f1-score   support\n",
      "\n",
      "           0       0.54      0.80      0.64       210\n",
      "           1       0.52      0.24      0.33       190\n",
      "\n",
      "    accuracy                           0.54       400\n",
      "   macro avg       0.53      0.52      0.49       400\n",
      "weighted avg       0.53      0.54      0.50       400\n",
      "\n"
     ]
    }
   ],
   "source": [
    "# Get the best model from GridSearch\n",
    "best_model = grid_search.best_estimator_\n",
    "\n",
    "# Predict on test data\n",
    "y_pred = best_model.predict(X_test)\n",
    "\n",
    "# Show classification performance\n",
    "print(classification_report(y_test, y_pred))"
   ]
  }
 ],
 "metadata": {
  "kernelspec": {
   "display_name": "Python 3",
   "language": "python",
   "name": "python3"
  },
  "language_info": {
   "codemirror_mode": {
    "name": "ipython",
    "version": 3
   },
   "file_extension": ".py",
   "mimetype": "text/x-python",
   "name": "python",
   "nbconvert_exporter": "python",
   "pygments_lexer": "ipython3",
   "version": "3.12.1"
  }
 },
 "nbformat": 4,
 "nbformat_minor": 2
}
